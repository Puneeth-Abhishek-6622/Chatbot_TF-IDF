{
  "nbformat": 4,
  "nbformat_minor": 0,
  "metadata": {
    "colab": {
      "provenance": [],
      "authorship_tag": "ABX9TyO0Xqc11yRZNw7OaXWheaKi",
      "include_colab_link": true
    },
    "kernelspec": {
      "name": "python3",
      "display_name": "Python 3"
    },
    "language_info": {
      "name": "python"
    }
  },
  "cells": [
    {
      "cell_type": "markdown",
      "metadata": {
        "id": "view-in-github",
        "colab_type": "text"
      },
      "source": [
        "<a href=\"https://colab.research.google.com/github/Puneeth-Abhishek-6622/Chatbot_TF-IDF/blob/main/Haystek_Assesment.ipynb\" target=\"_parent\"><img src=\"https://colab.research.google.com/assets/colab-badge.svg\" alt=\"Open In Colab\"/></a>"
      ]
    },
    {
      "cell_type": "markdown",
      "source": [
        "# TF-IDF Powered FAQ Chatbot"
      ],
      "metadata": {
        "id": "BUrpYHqUb1tl"
      }
    },
    {
      "cell_type": "code",
      "source": [
        "!pip install gradio -q\n",
        "from sklearn.feature_extraction.text import TfidfVectorizer\n",
        "from sklearn.metrics.pairwise import cosine_similarity\n",
        "import gradio as gr\n",
        "\n",
        "# Dataset\n",
        "sample_dataset = {\n",
        "    \"greeting\": {\n",
        "        \"patterns\": [\"Hello\", \"Hi\", \"good day\", \"hey\", \"What's up\", \"How are you\"],\n",
        "        \"response\": \"Hello! How can I help you today?\"\n",
        "    },\n",
        "    \"product_info\": {\n",
        "        \"patterns\": [\"what services do you provide ?\", \"Services list\", \"product list\", \"tell me about your products\", \"what services are available ?\"],\n",
        "        \"response\": \"We offer Staff augmentation, AIML Driven apps, Web & Content development, Mobile App development.\"\n",
        "    },\n",
        "    \"pricing\": {\n",
        "        \"patterns\": [\"how much does service cost\", \"what's the pricing?\", \"pricing list\", \"cost of your plans\", \"how expensive are the services?\", \"how much is it\", \"tell me about your charges\", \"do you have a pricing page\"],\n",
        "        \"response\": \"Our pricing starts at $500/month. Contact info@haystek.com or hr@haystek.com for details.\"\n",
        "    },\n",
        "    \"support\": {\n",
        "        \"patterns\": [\"How can i reach customer support?\", \"i need help\", \"contact support\", \"get in touch\", \"help desk\"],\n",
        "        \"response\": \"Reach our support team at info@haystek.com or hr@haystek.com!\"\n",
        "    },\n",
        "    \"thank_you\": {\n",
        "        \"patterns\": [\"thank you\", \"thanks\", \"thanks a lot\", \"thank you so much\", \"appreciate it\"],\n",
        "        \"response\": \"You're welcome! If you have any other questions, feel free to ask.\"\n",
        "    }\n",
        "}\n",
        "\n",
        "# Preprocess\n",
        "dataset = []\n",
        "labels = []\n",
        "for tag, data in sample_dataset.items():\n",
        "    for pattern in data[\"patterns\"]:\n",
        "        dataset.append(pattern)\n",
        "        labels.append(tag)\n",
        "\n",
        "vectorizer = TfidfVectorizer()\n",
        "X = vectorizer.fit_transform(dataset)\n",
        "\n",
        "# Bot response function\n",
        "def chatbot_response(user_input):\n",
        "    input_vec = vectorizer.transform([user_input])\n",
        "    similarity = cosine_similarity(input_vec, X)\n",
        "    max_index = similarity.argmax()\n",
        "    detected = labels[max_index]\n",
        "    if similarity[0, max_index] > 0.4:\n",
        "        return sample_dataset[detected][\"response\"]\n",
        "    else:\n",
        "        return \"I'm sorry, I didn't quite catch that. Could you please rephrase?\"\n",
        "\n",
        "\n",
        "gr.Interface(\n",
        "    fn=chatbot_response,\n",
        "    inputs=gr.Textbox(placeholder=\"Ask a question...\"),\n",
        "    outputs=\"text\",\n",
        "    title=\"Haystek FAQ Chatbot 🤖 \"\n",
        ").launch(share=True)"
      ],
      "metadata": {
        "colab": {
          "base_uri": "https://localhost:8080/",
          "height": 611
        },
        "id": "zlEQnuZwdYhb",
        "outputId": "8add427f-7aa1-4ab1-f1c7-ed22d4c0fc3a"
      },
      "execution_count": 35,
      "outputs": [
        {
          "output_type": "stream",
          "name": "stdout",
          "text": [
            "Colab notebook detected. To show errors in colab notebook, set debug=True in launch()\n",
            "* Running on public URL: https://df09720987722983f2.gradio.live\n",
            "\n",
            "This share link expires in 1 week. For free permanent hosting and GPU upgrades, run `gradio deploy` from the terminal in the working directory to deploy to Hugging Face Spaces (https://huggingface.co/spaces)\n"
          ]
        },
        {
          "output_type": "display_data",
          "data": {
            "text/plain": [
              "<IPython.core.display.HTML object>"
            ],
            "text/html": [
              "<div><iframe src=\"https://df09720987722983f2.gradio.live\" width=\"100%\" height=\"500\" allow=\"autoplay; camera; microphone; clipboard-read; clipboard-write;\" frameborder=\"0\" allowfullscreen></iframe></div>"
            ]
          },
          "metadata": {}
        },
        {
          "output_type": "execute_result",
          "data": {
            "text/plain": []
          },
          "metadata": {},
          "execution_count": 35
        }
      ]
    }
  ]
}